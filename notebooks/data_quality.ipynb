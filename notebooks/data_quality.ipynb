{
 "cells": [
  {
   "cell_type": "markdown",
   "metadata": {},
   "source": [
    "## Importing libraries and loading data"
   ]
  },
  {
   "cell_type": "code",
   "execution_count": 167,
   "metadata": {},
   "outputs": [],
   "source": [
    "import pandas as pd\n",
    "import numpy as np\n",
    "from sqlalchemy import create_engine\n",
    "\n",
    "engine = create_engine('sqlite:///data.db', echo=False)\n",
    "con = engine.connect()\n",
    "df_patient = pd.read_sql('select * from patient', con=con)\n",
    "df_pcr = pd.read_sql('select * from test', con=con)\n",
    "con.close()"
   ]
  },
  {
   "cell_type": "markdown",
   "metadata": {},
   "source": [
    "# Data quality check\n",
    "## A quick overview of the data"
   ]
  },
  {
   "cell_type": "code",
   "execution_count": 168,
   "metadata": {},
   "outputs": [
    {
     "data": {
      "text/plain": [
       "(8800, 2)"
      ]
     },
     "execution_count": 168,
     "metadata": {},
     "output_type": "execute_result"
    }
   ],
   "source": [
    "df_pcr.shape"
   ]
  },
  {
   "cell_type": "code",
   "execution_count": 169,
   "metadata": {},
   "outputs": [
    {
     "data": {
      "text/plain": [
       "(20000, 12)"
      ]
     },
     "execution_count": 169,
     "metadata": {},
     "output_type": "execute_result"
    }
   ],
   "source": [
    "df_patient.shape"
   ]
  },
  {
   "cell_type": "code",
   "execution_count": 170,
   "metadata": {},
   "outputs": [
    {
     "data": {
      "text/html": [
       "<div>\n",
       "<style scoped>\n",
       "    .dataframe tbody tr th:only-of-type {\n",
       "        vertical-align: middle;\n",
       "    }\n",
       "\n",
       "    .dataframe tbody tr th {\n",
       "        vertical-align: top;\n",
       "    }\n",
       "\n",
       "    .dataframe thead th {\n",
       "        text-align: right;\n",
       "    }\n",
       "</style>\n",
       "<table border=\"1\" class=\"dataframe\">\n",
       "  <thead>\n",
       "    <tr style=\"text-align: right;\">\n",
       "      <th></th>\n",
       "      <th>patient_id</th>\n",
       "      <th>given_name</th>\n",
       "      <th>surname</th>\n",
       "      <th>street_number</th>\n",
       "      <th>address_1</th>\n",
       "      <th>suburb</th>\n",
       "      <th>postcode</th>\n",
       "      <th>state</th>\n",
       "      <th>date_of_birth</th>\n",
       "      <th>age</th>\n",
       "      <th>phone_number</th>\n",
       "      <th>address_2</th>\n",
       "    </tr>\n",
       "  </thead>\n",
       "  <tbody>\n",
       "    <tr>\n",
       "      <th>0</th>\n",
       "      <td>221958</td>\n",
       "      <td>matisse</td>\n",
       "      <td>clarke</td>\n",
       "      <td>13.0</td>\n",
       "      <td>rene street</td>\n",
       "      <td>ellenbrook</td>\n",
       "      <td>2527</td>\n",
       "      <td>wa</td>\n",
       "      <td>19710708.0</td>\n",
       "      <td>32.0</td>\n",
       "      <td>08 86018809</td>\n",
       "      <td>westella</td>\n",
       "    </tr>\n",
       "    <tr>\n",
       "      <th>1</th>\n",
       "      <td>771155</td>\n",
       "      <td>joshua</td>\n",
       "      <td>elrick</td>\n",
       "      <td>23.0</td>\n",
       "      <td>andrea place</td>\n",
       "      <td>east preston</td>\n",
       "      <td>2074</td>\n",
       "      <td>nsw</td>\n",
       "      <td>19120921.0</td>\n",
       "      <td>34.0</td>\n",
       "      <td>02 97793152</td>\n",
       "      <td>foxdown</td>\n",
       "    </tr>\n",
       "    <tr>\n",
       "      <th>2</th>\n",
       "      <td>231932</td>\n",
       "      <td>alice</td>\n",
       "      <td>conboy</td>\n",
       "      <td>35.0</td>\n",
       "      <td>mountain circuit</td>\n",
       "      <td>prospect</td>\n",
       "      <td>2305</td>\n",
       "      <td>nsw</td>\n",
       "      <td>19810905.0</td>\n",
       "      <td>22.0</td>\n",
       "      <td>02 20403934</td>\n",
       "      <td>None</td>\n",
       "    </tr>\n",
       "    <tr>\n",
       "      <th>3</th>\n",
       "      <td>465838</td>\n",
       "      <td>sienna</td>\n",
       "      <td>craswell</td>\n",
       "      <td>39.0</td>\n",
       "      <td>cumberlegeicrescent</td>\n",
       "      <td>henty</td>\n",
       "      <td>3620</td>\n",
       "      <td>wa</td>\n",
       "      <td>19840809.0</td>\n",
       "      <td>30.0</td>\n",
       "      <td>02 62832318</td>\n",
       "      <td>jodane</td>\n",
       "    </tr>\n",
       "    <tr>\n",
       "      <th>4</th>\n",
       "      <td>359178</td>\n",
       "      <td>joshua</td>\n",
       "      <td>bastiaans</td>\n",
       "      <td>144.0</td>\n",
       "      <td>lowrie street</td>\n",
       "      <td>campbell town</td>\n",
       "      <td>4051</td>\n",
       "      <td>nsw</td>\n",
       "      <td>19340430.0</td>\n",
       "      <td>31.0</td>\n",
       "      <td>03 69359594</td>\n",
       "      <td>None</td>\n",
       "    </tr>\n",
       "  </tbody>\n",
       "</table>\n",
       "</div>"
      ],
      "text/plain": [
       "   patient_id given_name    surname  street_number            address_1  \\\n",
       "0      221958    matisse     clarke           13.0          rene street   \n",
       "1      771155     joshua     elrick           23.0         andrea place   \n",
       "2      231932      alice     conboy           35.0     mountain circuit   \n",
       "3      465838     sienna   craswell           39.0  cumberlegeicrescent   \n",
       "4      359178     joshua  bastiaans          144.0        lowrie street   \n",
       "\n",
       "          suburb postcode state  date_of_birth   age phone_number address_2  \n",
       "0     ellenbrook     2527    wa     19710708.0  32.0  08 86018809  westella  \n",
       "1   east preston     2074   nsw     19120921.0  34.0  02 97793152   foxdown  \n",
       "2       prospect     2305   nsw     19810905.0  22.0  02 20403934      None  \n",
       "3          henty     3620    wa     19840809.0  30.0  02 62832318    jodane  \n",
       "4  campbell town     4051   nsw     19340430.0  31.0  03 69359594      None  "
      ]
     },
     "execution_count": 170,
     "metadata": {},
     "output_type": "execute_result"
    }
   ],
   "source": [
    "df_patient.head()"
   ]
  },
  {
   "cell_type": "code",
   "execution_count": 171,
   "metadata": {},
   "outputs": [
    {
     "data": {
      "text/plain": [
       "patient_id         int64\n",
       "given_name        object\n",
       "surname           object\n",
       "street_number    float64\n",
       "address_1         object\n",
       "suburb            object\n",
       "postcode          object\n",
       "state             object\n",
       "date_of_birth    float64\n",
       "age              float64\n",
       "phone_number      object\n",
       "address_2         object\n",
       "dtype: object"
      ]
     },
     "execution_count": 171,
     "metadata": {},
     "output_type": "execute_result"
    }
   ],
   "source": [
    "df_patient.dtypes"
   ]
  },
  {
   "cell_type": "markdown",
   "metadata": {},
   "source": [
    "## Patient_id problem\n",
    "\n",
    "Duplicate ids, Duplicate ids for different people"
   ]
  },
  {
   "cell_type": "code",
   "execution_count": 172,
   "metadata": {},
   "outputs": [
    {
     "data": {
      "text/plain": [
       "(20000, 12)"
      ]
     },
     "execution_count": 172,
     "metadata": {},
     "output_type": "execute_result"
    }
   ],
   "source": [
    "df_patient.shape"
   ]
  },
  {
   "cell_type": "code",
   "execution_count": 173,
   "metadata": {},
   "outputs": [
    {
     "data": {
      "text/plain": [
       "19798"
      ]
     },
     "execution_count": 173,
     "metadata": {},
     "output_type": "execute_result"
    }
   ],
   "source": [
    "df_patient.patient_id.nunique()"
   ]
  },
  {
   "cell_type": "code",
   "execution_count": 174,
   "metadata": {},
   "outputs": [
    {
     "data": {
      "text/plain": [
       "count     20000.000000\n",
       "mean     553918.938750\n",
       "std      260234.961111\n",
       "min      100005.000000\n",
       "25%      330194.250000\n",
       "50%      556327.500000\n",
       "75%      779419.500000\n",
       "max      999993.000000\n",
       "Name: patient_id, dtype: float64"
      ]
     },
     "execution_count": 174,
     "metadata": {},
     "output_type": "execute_result"
    }
   ],
   "source": [
    "df_patient.patient_id.describe()"
   ]
  },
  {
   "cell_type": "code",
   "execution_count": 175,
   "metadata": {},
   "outputs": [
    {
     "data": {
      "text/html": [
       "<div>\n",
       "<style scoped>\n",
       "    .dataframe tbody tr th:only-of-type {\n",
       "        vertical-align: middle;\n",
       "    }\n",
       "\n",
       "    .dataframe tbody tr th {\n",
       "        vertical-align: top;\n",
       "    }\n",
       "\n",
       "    .dataframe thead th {\n",
       "        text-align: right;\n",
       "    }\n",
       "</style>\n",
       "<table border=\"1\" class=\"dataframe\">\n",
       "  <thead>\n",
       "    <tr style=\"text-align: right;\">\n",
       "      <th></th>\n",
       "      <th>given_name</th>\n",
       "      <th>surname</th>\n",
       "      <th>street_number</th>\n",
       "      <th>address_1</th>\n",
       "      <th>suburb</th>\n",
       "      <th>postcode</th>\n",
       "      <th>state</th>\n",
       "      <th>date_of_birth</th>\n",
       "      <th>age</th>\n",
       "      <th>phone_number</th>\n",
       "      <th>address_2</th>\n",
       "    </tr>\n",
       "    <tr>\n",
       "      <th>patient_id</th>\n",
       "      <th></th>\n",
       "      <th></th>\n",
       "      <th></th>\n",
       "      <th></th>\n",
       "      <th></th>\n",
       "      <th></th>\n",
       "      <th></th>\n",
       "      <th></th>\n",
       "      <th></th>\n",
       "      <th></th>\n",
       "      <th></th>\n",
       "    </tr>\n",
       "  </thead>\n",
       "  <tbody>\n",
       "    <tr>\n",
       "      <th>109304</th>\n",
       "      <td>zachary</td>\n",
       "      <td>farronato</td>\n",
       "      <td>30.0</td>\n",
       "      <td>outtrim avenue</td>\n",
       "      <td>como</td>\n",
       "      <td>2196</td>\n",
       "      <td>vic</td>\n",
       "      <td>19090801.0</td>\n",
       "      <td>31.0</td>\n",
       "      <td>07 22894061</td>\n",
       "      <td>the reefs</td>\n",
       "    </tr>\n",
       "    <tr>\n",
       "      <th>109304</th>\n",
       "      <td>bailey</td>\n",
       "      <td>donaldson</td>\n",
       "      <td>20.0</td>\n",
       "      <td>tardent street</td>\n",
       "      <td>ryde</td>\n",
       "      <td>0812</td>\n",
       "      <td>qld</td>\n",
       "      <td>19580310.0</td>\n",
       "      <td>26.0</td>\n",
       "      <td>07 13479210</td>\n",
       "      <td>None</td>\n",
       "    </tr>\n",
       "    <tr>\n",
       "      <th>110207</th>\n",
       "      <td>toby</td>\n",
       "      <td>brock</td>\n",
       "      <td>4.0</td>\n",
       "      <td>merriman crescent</td>\n",
       "      <td>baralaba</td>\n",
       "      <td>3025</td>\n",
       "      <td>nsw</td>\n",
       "      <td>19000424.0</td>\n",
       "      <td>35.0</td>\n",
       "      <td>08 33842007</td>\n",
       "      <td>leitrim</td>\n",
       "    </tr>\n",
       "    <tr>\n",
       "      <th>110207</th>\n",
       "      <td>zali</td>\n",
       "      <td>brock</td>\n",
       "      <td>32.0</td>\n",
       "      <td>hedger street</td>\n",
       "      <td>toorak</td>\n",
       "      <td>5038</td>\n",
       "      <td>act</td>\n",
       "      <td>NaN</td>\n",
       "      <td>22.0</td>\n",
       "      <td>08 96818512</td>\n",
       "      <td>None</td>\n",
       "    </tr>\n",
       "    <tr>\n",
       "      <th>115791</th>\n",
       "      <td>hannah</td>\n",
       "      <td>clarke</td>\n",
       "      <td>70.0</td>\n",
       "      <td>galmarra street</td>\n",
       "      <td>mayfield</td>\n",
       "      <td>7010</td>\n",
       "      <td>vic</td>\n",
       "      <td>19830828.0</td>\n",
       "      <td>25.0</td>\n",
       "      <td>04 70760611</td>\n",
       "      <td>None</td>\n",
       "    </tr>\n",
       "    <tr>\n",
       "      <th>115791</th>\n",
       "      <td>marley</td>\n",
       "      <td>colquhoun</td>\n",
       "      <td>7.0</td>\n",
       "      <td>boolee street</td>\n",
       "      <td>craigie</td>\n",
       "      <td>2534</td>\n",
       "      <td>qld</td>\n",
       "      <td>19000705.0</td>\n",
       "      <td>NaN</td>\n",
       "      <td>04 59547776</td>\n",
       "      <td>None</td>\n",
       "    </tr>\n",
       "  </tbody>\n",
       "</table>\n",
       "</div>"
      ],
      "text/plain": [
       "           given_name    surname  street_number          address_1    suburb  \\\n",
       "patient_id                                                                     \n",
       "109304        zachary  farronato           30.0     outtrim avenue      como   \n",
       "109304         bailey  donaldson           20.0     tardent street      ryde   \n",
       "110207           toby      brock            4.0  merriman crescent  baralaba   \n",
       "110207           zali      brock           32.0      hedger street    toorak   \n",
       "115791         hannah     clarke           70.0    galmarra street  mayfield   \n",
       "115791         marley  colquhoun            7.0      boolee street   craigie   \n",
       "\n",
       "           postcode state  date_of_birth   age phone_number  address_2  \n",
       "patient_id                                                              \n",
       "109304         2196   vic     19090801.0  31.0  07 22894061  the reefs  \n",
       "109304         0812   qld     19580310.0  26.0  07 13479210       None  \n",
       "110207         3025   nsw     19000424.0  35.0  08 33842007    leitrim  \n",
       "110207         5038   act            NaN  22.0  08 96818512       None  \n",
       "115791         7010   vic     19830828.0  25.0  04 70760611       None  \n",
       "115791         2534   qld     19000705.0   NaN  04 59547776       None  "
      ]
     },
     "execution_count": 175,
     "metadata": {},
     "output_type": "execute_result"
    }
   ],
   "source": [
    "#df_patient[df_patient.duplicated(subset=[\"patient_id\"], keep=False)].set_index(\"patient_id\").sort_index()\n",
    "df_patient[df_patient.duplicated(subset=[\"patient_id\"], keep=False)].set_index(\"patient_id\").sort_index().head(6)"
   ]
  },
  {
   "cell_type": "markdown",
   "metadata": {},
   "source": [
    "## Names : Given and Surname\n",
    "\n",
    "Missing Data, Typos"
   ]
  },
  {
   "cell_type": "code",
   "execution_count": 199,
   "metadata": {},
   "outputs": [
    {
     "data": {
      "text/html": [
       "<div>\n",
       "<style scoped>\n",
       "    .dataframe tbody tr th:only-of-type {\n",
       "        vertical-align: middle;\n",
       "    }\n",
       "\n",
       "    .dataframe tbody tr th {\n",
       "        vertical-align: top;\n",
       "    }\n",
       "\n",
       "    .dataframe thead th {\n",
       "        text-align: right;\n",
       "    }\n",
       "</style>\n",
       "<table border=\"1\" class=\"dataframe\">\n",
       "  <thead>\n",
       "    <tr style=\"text-align: right;\">\n",
       "      <th></th>\n",
       "      <th>patient_id</th>\n",
       "      <th>given_name</th>\n",
       "      <th>surname</th>\n",
       "      <th>street_number</th>\n",
       "      <th>address_1</th>\n",
       "      <th>suburb</th>\n",
       "      <th>postcode</th>\n",
       "      <th>state</th>\n",
       "      <th>date_of_birth</th>\n",
       "      <th>age</th>\n",
       "      <th>phone_number</th>\n",
       "      <th>address_2</th>\n",
       "    </tr>\n",
       "  </thead>\n",
       "  <tbody>\n",
       "    <tr>\n",
       "      <th>11</th>\n",
       "      <td>187498</td>\n",
       "      <td>None</td>\n",
       "      <td>mason</td>\n",
       "      <td>20.0</td>\n",
       "      <td>padbury street</td>\n",
       "      <td>granville</td>\n",
       "      <td>6239</td>\n",
       "      <td>qld</td>\n",
       "      <td>19201021.0</td>\n",
       "      <td>38.0</td>\n",
       "      <td>03 85186450</td>\n",
       "      <td>pioneer lodge</td>\n",
       "    </tr>\n",
       "    <tr>\n",
       "      <th>17</th>\n",
       "      <td>429365</td>\n",
       "      <td>None</td>\n",
       "      <td>coffey</td>\n",
       "      <td>1409.0</td>\n",
       "      <td>musson close</td>\n",
       "      <td>beaconsfield upper</td>\n",
       "      <td>5019</td>\n",
       "      <td>wa</td>\n",
       "      <td>NaN</td>\n",
       "      <td>30.0</td>\n",
       "      <td>03 13369308</td>\n",
       "      <td>silverweir</td>\n",
       "    </tr>\n",
       "    <tr>\n",
       "      <th>56</th>\n",
       "      <td>573254</td>\n",
       "      <td>None</td>\n",
       "      <td>wilde</td>\n",
       "      <td>3.0</td>\n",
       "      <td>must circuit</td>\n",
       "      <td>ormeau</td>\n",
       "      <td>0800</td>\n",
       "      <td>nsw</td>\n",
       "      <td>19590826.0</td>\n",
       "      <td>37.0</td>\n",
       "      <td>04 40239609</td>\n",
       "      <td>None</td>\n",
       "    </tr>\n",
       "    <tr>\n",
       "      <th>59</th>\n",
       "      <td>370936</td>\n",
       "      <td>None</td>\n",
       "      <td>coulson</td>\n",
       "      <td>118.0</td>\n",
       "      <td>murphy street</td>\n",
       "      <td>st agnes</td>\n",
       "      <td>2062</td>\n",
       "      <td>qld</td>\n",
       "      <td>19820225.0</td>\n",
       "      <td>33.0</td>\n",
       "      <td>04 05029557</td>\n",
       "      <td>None</td>\n",
       "    </tr>\n",
       "    <tr>\n",
       "      <th>66</th>\n",
       "      <td>168148</td>\n",
       "      <td>kallie</td>\n",
       "      <td>None</td>\n",
       "      <td>18.0</td>\n",
       "      <td>lampard circuit</td>\n",
       "      <td>bassendean</td>\n",
       "      <td>2632</td>\n",
       "      <td>nsw</td>\n",
       "      <td>19380612.0</td>\n",
       "      <td>NaN</td>\n",
       "      <td>02 37706143</td>\n",
       "      <td>None</td>\n",
       "    </tr>\n",
       "  </tbody>\n",
       "</table>\n",
       "</div>"
      ],
      "text/plain": [
       "    patient_id given_name  surname  street_number        address_1  \\\n",
       "11      187498       None    mason           20.0   padbury street   \n",
       "17      429365       None   coffey         1409.0     musson close   \n",
       "56      573254       None    wilde            3.0     must circuit   \n",
       "59      370936       None  coulson          118.0    murphy street   \n",
       "66      168148     kallie     None           18.0  lampard circuit   \n",
       "\n",
       "                suburb postcode state  date_of_birth   age phone_number  \\\n",
       "11           granville     6239   qld     19201021.0  38.0  03 85186450   \n",
       "17  beaconsfield upper     5019    wa            NaN  30.0  03 13369308   \n",
       "56              ormeau     0800   nsw     19590826.0  37.0  04 40239609   \n",
       "59            st agnes     2062   qld     19820225.0  33.0  04 05029557   \n",
       "66          bassendean     2632   nsw     19380612.0   NaN  02 37706143   \n",
       "\n",
       "        address_2  \n",
       "11  pioneer lodge  \n",
       "17     silverweir  \n",
       "56           None  \n",
       "59           None  \n",
       "66           None  "
      ]
     },
     "execution_count": 199,
     "metadata": {},
     "output_type": "execute_result"
    }
   ],
   "source": [
    "name_none = df_patient[df_patient.given_name.isnull() | df_patient.surname.isnull()]\n",
    "name_none.head()"
   ]
  },
  {
   "cell_type": "code",
   "execution_count": 200,
   "metadata": {},
   "outputs": [
    {
     "data": {
      "text/plain": [
       "(861, 12)"
      ]
     },
     "execution_count": 200,
     "metadata": {},
     "output_type": "execute_result"
    }
   ],
   "source": [
    "name_none.shape"
   ]
  },
  {
   "cell_type": "code",
   "execution_count": 225,
   "metadata": {},
   "outputs": [
    {
     "data": {
      "text/html": [
       "<div>\n",
       "<style scoped>\n",
       "    .dataframe tbody tr th:only-of-type {\n",
       "        vertical-align: middle;\n",
       "    }\n",
       "\n",
       "    .dataframe tbody tr th {\n",
       "        vertical-align: top;\n",
       "    }\n",
       "\n",
       "    .dataframe thead th {\n",
       "        text-align: right;\n",
       "    }\n",
       "</style>\n",
       "<table border=\"1\" class=\"dataframe\">\n",
       "  <thead>\n",
       "    <tr style=\"text-align: right;\">\n",
       "      <th></th>\n",
       "      <th>given_name</th>\n",
       "      <th>surname</th>\n",
       "    </tr>\n",
       "  </thead>\n",
       "  <tbody>\n",
       "    <tr>\n",
       "      <th>0</th>\n",
       "      <td>matisse</td>\n",
       "      <td>clarke</td>\n",
       "    </tr>\n",
       "    <tr>\n",
       "      <th>1</th>\n",
       "      <td>joshua</td>\n",
       "      <td>elrick</td>\n",
       "    </tr>\n",
       "    <tr>\n",
       "      <th>2</th>\n",
       "      <td>alice</td>\n",
       "      <td>conboy</td>\n",
       "    </tr>\n",
       "    <tr>\n",
       "      <th>3</th>\n",
       "      <td>sienna</td>\n",
       "      <td>craswell</td>\n",
       "    </tr>\n",
       "    <tr>\n",
       "      <th>4</th>\n",
       "      <td>joshua</td>\n",
       "      <td>bastiaans</td>\n",
       "    </tr>\n",
       "    <tr>\n",
       "      <th>5</th>\n",
       "      <td>ky</td>\n",
       "      <td>laing</td>\n",
       "    </tr>\n",
       "    <tr>\n",
       "      <th>6</th>\n",
       "      <td>matthew</td>\n",
       "      <td>laing</td>\n",
       "    </tr>\n",
       "    <tr>\n",
       "      <th>7</th>\n",
       "      <td>jack</td>\n",
       "      <td>renfrey</td>\n",
       "    </tr>\n",
       "    <tr>\n",
       "      <th>8</th>\n",
       "      <td>adele</td>\n",
       "      <td>ryan</td>\n",
       "    </tr>\n",
       "    <tr>\n",
       "      <th>9</th>\n",
       "      <td>breeanne</td>\n",
       "      <td>wynne</td>\n",
       "    </tr>\n",
       "    <tr>\n",
       "      <th>10</th>\n",
       "      <td>michael</td>\n",
       "      <td>white</td>\n",
       "    </tr>\n",
       "    <tr>\n",
       "      <th>12</th>\n",
       "      <td>joshua</td>\n",
       "      <td>bristow</td>\n",
       "    </tr>\n",
       "    <tr>\n",
       "      <th>13</th>\n",
       "      <td>max</td>\n",
       "      <td>godfrey</td>\n",
       "    </tr>\n",
       "    <tr>\n",
       "      <th>14</th>\n",
       "      <td>mikayla</td>\n",
       "      <td>paterson</td>\n",
       "    </tr>\n",
       "    <tr>\n",
       "      <th>15</th>\n",
       "      <td>cain</td>\n",
       "      <td>scarles</td>\n",
       "    </tr>\n",
       "    <tr>\n",
       "      <th>16</th>\n",
       "      <td>georgia</td>\n",
       "      <td>white</td>\n",
       "    </tr>\n",
       "    <tr>\n",
       "      <th>18</th>\n",
       "      <td>lia</td>\n",
       "      <td>wilde</td>\n",
       "    </tr>\n",
       "    <tr>\n",
       "      <th>19</th>\n",
       "      <td>mitchekl</td>\n",
       "      <td>stephenskon</td>\n",
       "    </tr>\n",
       "    <tr>\n",
       "      <th>20</th>\n",
       "      <td>callum</td>\n",
       "      <td>nicolle</td>\n",
       "    </tr>\n",
       "    <tr>\n",
       "      <th>21</th>\n",
       "      <td>ruby</td>\n",
       "      <td>grafton</td>\n",
       "    </tr>\n",
       "    <tr>\n",
       "      <th>22</th>\n",
       "      <td>mystique</td>\n",
       "      <td>white</td>\n",
       "    </tr>\n",
       "    <tr>\n",
       "      <th>23</th>\n",
       "      <td>zac</td>\n",
       "      <td>rosendale</td>\n",
       "    </tr>\n",
       "    <tr>\n",
       "      <th>24</th>\n",
       "      <td>harrison</td>\n",
       "      <td>neumann</td>\n",
       "    </tr>\n",
       "    <tr>\n",
       "      <th>25</th>\n",
       "      <td>charlie</td>\n",
       "      <td>mcgregor</td>\n",
       "    </tr>\n",
       "    <tr>\n",
       "      <th>26</th>\n",
       "      <td>clain</td>\n",
       "      <td>kinnane</td>\n",
       "    </tr>\n",
       "    <tr>\n",
       "      <th>27</th>\n",
       "      <td>jake</td>\n",
       "      <td>clarke</td>\n",
       "    </tr>\n",
       "    <tr>\n",
       "      <th>28</th>\n",
       "      <td>talia</td>\n",
       "      <td>mitton</td>\n",
       "    </tr>\n",
       "    <tr>\n",
       "      <th>29</th>\n",
       "      <td>alexandra</td>\n",
       "      <td>miles</td>\n",
       "    </tr>\n",
       "    <tr>\n",
       "      <th>30</th>\n",
       "      <td>andrew</td>\n",
       "      <td>fimmano</td>\n",
       "    </tr>\n",
       "    <tr>\n",
       "      <th>31</th>\n",
       "      <td>alicia</td>\n",
       "      <td>opbroek</td>\n",
       "    </tr>\n",
       "    <tr>\n",
       "      <th>...</th>\n",
       "      <td>...</td>\n",
       "      <td>...</td>\n",
       "    </tr>\n",
       "    <tr>\n",
       "      <th>19967</th>\n",
       "      <td>marleigh</td>\n",
       "      <td>seen</td>\n",
       "    </tr>\n",
       "    <tr>\n",
       "      <th>19968</th>\n",
       "      <td>caleb</td>\n",
       "      <td>richmond</td>\n",
       "    </tr>\n",
       "    <tr>\n",
       "      <th>19969</th>\n",
       "      <td>renai</td>\n",
       "      <td>glass</td>\n",
       "    </tr>\n",
       "    <tr>\n",
       "      <th>19970</th>\n",
       "      <td>alicia</td>\n",
       "      <td>morrison</td>\n",
       "    </tr>\n",
       "    <tr>\n",
       "      <th>19971</th>\n",
       "      <td>takeisha</td>\n",
       "      <td>rawlings</td>\n",
       "    </tr>\n",
       "    <tr>\n",
       "      <th>19972</th>\n",
       "      <td>jamie</td>\n",
       "      <td>chandler</td>\n",
       "    </tr>\n",
       "    <tr>\n",
       "      <th>19973</th>\n",
       "      <td>danielle</td>\n",
       "      <td>newport</td>\n",
       "    </tr>\n",
       "    <tr>\n",
       "      <th>19974</th>\n",
       "      <td>connor</td>\n",
       "      <td>whait</td>\n",
       "    </tr>\n",
       "    <tr>\n",
       "      <th>19976</th>\n",
       "      <td>kane</td>\n",
       "      <td>costigan</td>\n",
       "    </tr>\n",
       "    <tr>\n",
       "      <th>19978</th>\n",
       "      <td>nicholas</td>\n",
       "      <td>jacura</td>\n",
       "    </tr>\n",
       "    <tr>\n",
       "      <th>19979</th>\n",
       "      <td>thomas</td>\n",
       "      <td>matthews</td>\n",
       "    </tr>\n",
       "    <tr>\n",
       "      <th>19980</th>\n",
       "      <td>ethan</td>\n",
       "      <td>statham</td>\n",
       "    </tr>\n",
       "    <tr>\n",
       "      <th>19981</th>\n",
       "      <td>hana</td>\n",
       "      <td>barazda</td>\n",
       "    </tr>\n",
       "    <tr>\n",
       "      <th>19982</th>\n",
       "      <td>rebecca</td>\n",
       "      <td>santi</td>\n",
       "    </tr>\n",
       "    <tr>\n",
       "      <th>19983</th>\n",
       "      <td>victoria</td>\n",
       "      <td>whiteley</td>\n",
       "    </tr>\n",
       "    <tr>\n",
       "      <th>19984</th>\n",
       "      <td>xavier</td>\n",
       "      <td>priest</td>\n",
       "    </tr>\n",
       "    <tr>\n",
       "      <th>19985</th>\n",
       "      <td>sarah</td>\n",
       "      <td>matthews</td>\n",
       "    </tr>\n",
       "    <tr>\n",
       "      <th>19986</th>\n",
       "      <td>kiara</td>\n",
       "      <td>cheel</td>\n",
       "    </tr>\n",
       "    <tr>\n",
       "      <th>19987</th>\n",
       "      <td>robert</td>\n",
       "      <td>makovetsky</td>\n",
       "    </tr>\n",
       "    <tr>\n",
       "      <th>19988</th>\n",
       "      <td>erin</td>\n",
       "      <td>jeffries</td>\n",
       "    </tr>\n",
       "    <tr>\n",
       "      <th>19989</th>\n",
       "      <td>michael</td>\n",
       "      <td>eglinton</td>\n",
       "    </tr>\n",
       "    <tr>\n",
       "      <th>19990</th>\n",
       "      <td>bayden</td>\n",
       "      <td>due</td>\n",
       "    </tr>\n",
       "    <tr>\n",
       "      <th>19991</th>\n",
       "      <td>william</td>\n",
       "      <td>villiers</td>\n",
       "    </tr>\n",
       "    <tr>\n",
       "      <th>19992</th>\n",
       "      <td>amber</td>\n",
       "      <td>leeuwenburg</td>\n",
       "    </tr>\n",
       "    <tr>\n",
       "      <th>19993</th>\n",
       "      <td>cooper</td>\n",
       "      <td>sherriff</td>\n",
       "    </tr>\n",
       "    <tr>\n",
       "      <th>19994</th>\n",
       "      <td>fraser</td>\n",
       "      <td>mcneill</td>\n",
       "    </tr>\n",
       "    <tr>\n",
       "      <th>19996</th>\n",
       "      <td>dale</td>\n",
       "      <td>priest</td>\n",
       "    </tr>\n",
       "    <tr>\n",
       "      <th>19997</th>\n",
       "      <td>alessia</td>\n",
       "      <td>mawlai</td>\n",
       "    </tr>\n",
       "    <tr>\n",
       "      <th>19998</th>\n",
       "      <td>hannah</td>\n",
       "      <td>mason</td>\n",
       "    </tr>\n",
       "    <tr>\n",
       "      <th>19999</th>\n",
       "      <td>jack</td>\n",
       "      <td>mcveigh</td>\n",
       "    </tr>\n",
       "  </tbody>\n",
       "</table>\n",
       "<p>19139 rows × 2 columns</p>\n",
       "</div>"
      ],
      "text/plain": [
       "      given_name      surname\n",
       "0        matisse       clarke\n",
       "1         joshua       elrick\n",
       "2          alice       conboy\n",
       "3         sienna     craswell\n",
       "4         joshua    bastiaans\n",
       "5             ky        laing\n",
       "6        matthew        laing\n",
       "7           jack      renfrey\n",
       "8          adele         ryan\n",
       "9       breeanne        wynne\n",
       "10       michael        white\n",
       "12        joshua      bristow\n",
       "13           max      godfrey\n",
       "14       mikayla     paterson\n",
       "15          cain      scarles\n",
       "16       georgia        white\n",
       "18           lia        wilde\n",
       "19      mitchekl  stephenskon\n",
       "20        callum      nicolle\n",
       "21          ruby      grafton\n",
       "22      mystique        white\n",
       "23           zac    rosendale\n",
       "24      harrison      neumann\n",
       "25       charlie     mcgregor\n",
       "26         clain      kinnane\n",
       "27          jake       clarke\n",
       "28         talia       mitton\n",
       "29     alexandra        miles\n",
       "30        andrew      fimmano\n",
       "31        alicia      opbroek\n",
       "...          ...          ...\n",
       "19967   marleigh         seen\n",
       "19968      caleb     richmond\n",
       "19969      renai        glass\n",
       "19970     alicia     morrison\n",
       "19971   takeisha     rawlings\n",
       "19972      jamie     chandler\n",
       "19973   danielle      newport\n",
       "19974     connor        whait\n",
       "19976       kane     costigan\n",
       "19978   nicholas       jacura\n",
       "19979     thomas     matthews\n",
       "19980      ethan      statham\n",
       "19981       hana      barazda\n",
       "19982    rebecca        santi\n",
       "19983   victoria     whiteley\n",
       "19984     xavier       priest\n",
       "19985      sarah     matthews\n",
       "19986      kiara        cheel\n",
       "19987     robert   makovetsky\n",
       "19988       erin     jeffries\n",
       "19989    michael     eglinton\n",
       "19990     bayden          due\n",
       "19991    william     villiers\n",
       "19992      amber  leeuwenburg\n",
       "19993     cooper     sherriff\n",
       "19994     fraser      mcneill\n",
       "19996       dale       priest\n",
       "19997    alessia       mawlai\n",
       "19998     hannah        mason\n",
       "19999       jack      mcveigh\n",
       "\n",
       "[19139 rows x 2 columns]"
      ]
     },
     "execution_count": 225,
     "metadata": {},
     "output_type": "execute_result"
    }
   ],
   "source": [
    "df_patient[[\"given_name\",\"surname\"]].dropna(how=\"any\")"
   ]
  },
  {
   "cell_type": "markdown",
   "metadata": {},
   "source": [
    "## Street number\n",
    "\n",
    "Missing data, wrong datatype, wrong info / typo"
   ]
  },
  {
   "cell_type": "code",
   "execution_count": 40,
   "metadata": {},
   "outputs": [
    {
     "data": {
      "text/plain": [
       "<matplotlib.axes._subplots.AxesSubplot at 0x10d1b750>"
      ]
     },
     "execution_count": 40,
     "metadata": {},
     "output_type": "execute_result"
    },
    {
     "data": {
      "image/png": "[encoded data removed]",
      "text/plain": [
       "<Figure size 432x288 with 1 Axes>"
      ]
     },
     "metadata": {
      "needs_background": "light"
     },
     "output_type": "display_data"
    }
   ],
   "source": [
    "df_patient.street_number.fillna(0, inplace = True)\n",
    "df_patient.street_number.astype('int', inplace= True)\n",
    "df_patient.street_number.hist(bins=100)"
   ]
  },
  {
   "cell_type": "code",
   "execution_count": 41,
   "metadata": {},
   "outputs": [
    {
     "data": {
      "text/plain": [
       "count     20000.000000\n",
       "mean         96.925150\n",
       "std        2458.128201\n",
       "min           0.000000\n",
       "25%           9.000000\n",
       "50%          24.000000\n",
       "75%          59.000000\n",
       "max      342951.000000\n",
       "Name: street_number, dtype: float64"
      ]
     },
     "execution_count": 41,
     "metadata": {},
     "output_type": "execute_result"
    }
   ],
   "source": [
    "df_patient.street_number.describe()"
   ]
  },
  {
   "cell_type": "markdown",
   "metadata": {},
   "source": [
    "## Address 1 column\n",
    "\n",
    "Incorrect input : no space, typos"
   ]
  },
  {
   "cell_type": "code",
   "execution_count": 42,
   "metadata": {},
   "outputs": [
    {
     "data": {
      "text/plain": [
       "0            rene street\n",
       "1           andrea place\n",
       "2       mountain circuit\n",
       "3    cumberlegeicrescent\n",
       "4          lowrie street\n",
       "Name: address_1, dtype: object"
      ]
     },
     "execution_count": 42,
     "metadata": {},
     "output_type": "execute_result"
    }
   ],
   "source": [
    "df_patient.address_1.head()"
   ]
  },
  {
   "cell_type": "code",
   "execution_count": 43,
   "metadata": {},
   "outputs": [
    {
     "data": {
      "text/plain": [
       "4326"
      ]
     },
     "execution_count": 43,
     "metadata": {},
     "output_type": "execute_result"
    }
   ],
   "source": [
    "df_patient.address_1.nunique()"
   ]
  },
  {
   "cell_type": "code",
   "execution_count": 44,
   "metadata": {},
   "outputs": [
    {
     "data": {
      "text/plain": [
       "array(['rene street', 'andrea place', 'mountain circuit', ...,\n",
       "       'collie street', 'halligan place', 'alinda place'], dtype=object)"
      ]
     },
     "execution_count": 44,
     "metadata": {},
     "output_type": "execute_result"
    }
   ],
   "source": [
    "df_patient.address_1.unique()"
   ]
  },
  {
   "cell_type": "code",
   "execution_count": 48,
   "metadata": {},
   "outputs": [
    {
     "data": {
      "text/plain": [
       "patient_id                    465838\n",
       "given_name                    sienna\n",
       "surname                     craswell\n",
       "street_number                     39\n",
       "address_1        cumberlegeicrescent\n",
       "suburb                         henty\n",
       "postcode                        3620\n",
       "state                             wa\n",
       "date_of_birth            1.98408e+07\n",
       "age                               30\n",
       "phone_number             02 62832318\n",
       "address_2                     jodane\n",
       "Name: 3, dtype: object"
      ]
     },
     "execution_count": 48,
     "metadata": {},
     "output_type": "execute_result"
    }
   ],
   "source": [
    "df_patient.loc[3]"
   ]
  },
  {
   "cell_type": "code",
   "execution_count": null,
   "metadata": {},
   "outputs": [],
   "source": []
  }
 ],
 "metadata": {
  "kernelspec": {
   "display_name": "Python 3",
   "language": "python",
   "name": "python3"
  },
  "language_info": {
   "codemirror_mode": {
    "name": "ipython",
    "version": 3
   },
   "file_extension": ".py",
   "mimetype": "text/x-python",
   "name": "python",
   "nbconvert_exporter": "python",
   "pygments_lexer": "ipython3",
   "version": "3.7.4"
  }
 },
 "nbformat": 4,
 "nbformat_minor": 4
}
